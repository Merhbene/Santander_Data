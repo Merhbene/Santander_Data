{
  "nbformat": 4,
  "nbformat_minor": 0,
  "metadata": {
    "colab": {
      "name": "Churn prevention.ipynb",
      "provenance": []
    },
    "kernelspec": {
      "name": "python3",
      "display_name": "Python 3"
    },
    "language_info": {
      "name": "python"
    },
    "accelerator": "GPU"
  },
  "cells": [
    {
      "cell_type": "markdown",
      "metadata": {
        "id": "3ltciK_Ap9uw"
      },
      "source": [
        "# **Churn Problem for Bank Company**"
      ]
    },
    {
      "cell_type": "markdown",
      "metadata": {
        "id": "485_eUsaqWRu"
      },
      "source": [
        "* It is much more expensive to sign in a new client than keeping an existing one.\n",
        "\n",
        "\n",
        "\n",
        "\n",
        "\n",
        "* It is advantageous for banks to know what leads a client towards the decision to leave the company.\n",
        "\n",
        "\n",
        "* Churn prevention allows companies to develop loyalty programs and retention \n",
        "campaigns to keep as many customers as possible."
      ]
    },
    {
      "cell_type": "markdown",
      "metadata": {
        "id": "6BhoLmCQrBu2"
      },
      "source": [
        "\n",
        "\n",
        "**The aim is to estimate whether a bank's customers leave the bank or not.**"
      ]
    },
    {
      "cell_type": "code",
      "metadata": {
        "colab": {
          "base_uri": "https://localhost:8080/"
        },
        "id": "eH5oiNudorbi",
        "outputId": "78f45e74-efbe-407d-8f52-4b989e7997e9"
      },
      "source": [
        "# Mount the Google Drive to Google Colab\n",
        "\n",
        "from google.colab import drive\n",
        "drive.mount('/content/gdrive')"
      ],
      "execution_count": 160,
      "outputs": [
        {
          "output_type": "stream",
          "text": [
            "Drive already mounted at /content/gdrive; to attempt to forcibly remount, call drive.mount(\"/content/gdrive\", force_remount=True).\n"
          ],
          "name": "stdout"
        }
      ]
    },
    {
      "cell_type": "markdown",
      "metadata": {
        "id": "MSM6t6SQyEYx"
      },
      "source": [
        "Importing Packages\n"
      ]
    },
    {
      "cell_type": "code",
      "metadata": {
        "id": "yoEvA4Jso0Z4"
      },
      "source": [
        "import pandas as pd\n",
        "import seaborn as sns\n",
        "import plotly.express as px\n",
        "import matplotlib.pyplot as plt\n",
        "import numpy as np\n",
        "\n",
        "from sklearn.model_selection import train_test_split\n",
        "import tensorflow as tf\n",
        "from sklearn.svm import SVC"
      ],
      "execution_count": 161,
      "outputs": []
    },
    {
      "cell_type": "code",
      "metadata": {
        "id": "0rvRn4dVZAyA"
      },
      "source": [
        "from sklearn.model_selection import train_test_split, GridSearchCV, cross_val_score\n",
        "from sklearn.linear_model import LogisticRegression\n",
        "from sklearn.neighbors import KNeighborsClassifier\n",
        "from sklearn.ensemble import RandomForestClassifier, VotingClassifier\n",
        "from sklearn.metrics import accuracy_score, confusion_matrix, roc_auc_score, roc_curve"
      ],
      "execution_count": 162,
      "outputs": []
    },
    {
      "cell_type": "markdown",
      "metadata": {
        "id": "xc7CX4O3yJhL"
      },
      "source": [
        "Reading Data from Drive:"
      ]
    },
    {
      "cell_type": "code",
      "metadata": {
        "id": "e5WHrBp8pFwd"
      },
      "source": [
        "df = pd.read_csv('/content/gdrive/MyDrive/archive.zip')"
      ],
      "execution_count": 163,
      "outputs": []
    },
    {
      "cell_type": "code",
      "metadata": {
        "colab": {
          "base_uri": "https://localhost:8080/",
          "height": 417
        },
        "id": "tip5fQGFpOvB",
        "outputId": "2261ae9b-879d-46db-8ab6-0a04b75d4743"
      },
      "source": [
        "df"
      ],
      "execution_count": 164,
      "outputs": [
        {
          "output_type": "execute_result",
          "data": {
            "text/html": [
              "<div>\n",
              "<style scoped>\n",
              "    .dataframe tbody tr th:only-of-type {\n",
              "        vertical-align: middle;\n",
              "    }\n",
              "\n",
              "    .dataframe tbody tr th {\n",
              "        vertical-align: top;\n",
              "    }\n",
              "\n",
              "    .dataframe thead th {\n",
              "        text-align: right;\n",
              "    }\n",
              "</style>\n",
              "<table border=\"1\" class=\"dataframe\">\n",
              "  <thead>\n",
              "    <tr style=\"text-align: right;\">\n",
              "      <th></th>\n",
              "      <th>RowNumber</th>\n",
              "      <th>CustomerId</th>\n",
              "      <th>Surname</th>\n",
              "      <th>CreditScore</th>\n",
              "      <th>Geography</th>\n",
              "      <th>Gender</th>\n",
              "      <th>Age</th>\n",
              "      <th>Tenure</th>\n",
              "      <th>Balance</th>\n",
              "      <th>NumOfProducts</th>\n",
              "      <th>HasCrCard</th>\n",
              "      <th>IsActiveMember</th>\n",
              "      <th>EstimatedSalary</th>\n",
              "      <th>Exited</th>\n",
              "    </tr>\n",
              "  </thead>\n",
              "  <tbody>\n",
              "    <tr>\n",
              "      <th>0</th>\n",
              "      <td>1</td>\n",
              "      <td>15634602</td>\n",
              "      <td>Hargrave</td>\n",
              "      <td>619</td>\n",
              "      <td>France</td>\n",
              "      <td>Female</td>\n",
              "      <td>42</td>\n",
              "      <td>2</td>\n",
              "      <td>0.00</td>\n",
              "      <td>1</td>\n",
              "      <td>1</td>\n",
              "      <td>1</td>\n",
              "      <td>101348.88</td>\n",
              "      <td>1</td>\n",
              "    </tr>\n",
              "    <tr>\n",
              "      <th>1</th>\n",
              "      <td>2</td>\n",
              "      <td>15647311</td>\n",
              "      <td>Hill</td>\n",
              "      <td>608</td>\n",
              "      <td>Spain</td>\n",
              "      <td>Female</td>\n",
              "      <td>41</td>\n",
              "      <td>1</td>\n",
              "      <td>83807.86</td>\n",
              "      <td>1</td>\n",
              "      <td>0</td>\n",
              "      <td>1</td>\n",
              "      <td>112542.58</td>\n",
              "      <td>0</td>\n",
              "    </tr>\n",
              "    <tr>\n",
              "      <th>2</th>\n",
              "      <td>3</td>\n",
              "      <td>15619304</td>\n",
              "      <td>Onio</td>\n",
              "      <td>502</td>\n",
              "      <td>France</td>\n",
              "      <td>Female</td>\n",
              "      <td>42</td>\n",
              "      <td>8</td>\n",
              "      <td>159660.80</td>\n",
              "      <td>3</td>\n",
              "      <td>1</td>\n",
              "      <td>0</td>\n",
              "      <td>113931.57</td>\n",
              "      <td>1</td>\n",
              "    </tr>\n",
              "    <tr>\n",
              "      <th>3</th>\n",
              "      <td>4</td>\n",
              "      <td>15701354</td>\n",
              "      <td>Boni</td>\n",
              "      <td>699</td>\n",
              "      <td>France</td>\n",
              "      <td>Female</td>\n",
              "      <td>39</td>\n",
              "      <td>1</td>\n",
              "      <td>0.00</td>\n",
              "      <td>2</td>\n",
              "      <td>0</td>\n",
              "      <td>0</td>\n",
              "      <td>93826.63</td>\n",
              "      <td>0</td>\n",
              "    </tr>\n",
              "    <tr>\n",
              "      <th>4</th>\n",
              "      <td>5</td>\n",
              "      <td>15737888</td>\n",
              "      <td>Mitchell</td>\n",
              "      <td>850</td>\n",
              "      <td>Spain</td>\n",
              "      <td>Female</td>\n",
              "      <td>43</td>\n",
              "      <td>2</td>\n",
              "      <td>125510.82</td>\n",
              "      <td>1</td>\n",
              "      <td>1</td>\n",
              "      <td>1</td>\n",
              "      <td>79084.10</td>\n",
              "      <td>0</td>\n",
              "    </tr>\n",
              "    <tr>\n",
              "      <th>...</th>\n",
              "      <td>...</td>\n",
              "      <td>...</td>\n",
              "      <td>...</td>\n",
              "      <td>...</td>\n",
              "      <td>...</td>\n",
              "      <td>...</td>\n",
              "      <td>...</td>\n",
              "      <td>...</td>\n",
              "      <td>...</td>\n",
              "      <td>...</td>\n",
              "      <td>...</td>\n",
              "      <td>...</td>\n",
              "      <td>...</td>\n",
              "      <td>...</td>\n",
              "    </tr>\n",
              "    <tr>\n",
              "      <th>9995</th>\n",
              "      <td>9996</td>\n",
              "      <td>15606229</td>\n",
              "      <td>Obijiaku</td>\n",
              "      <td>771</td>\n",
              "      <td>France</td>\n",
              "      <td>Male</td>\n",
              "      <td>39</td>\n",
              "      <td>5</td>\n",
              "      <td>0.00</td>\n",
              "      <td>2</td>\n",
              "      <td>1</td>\n",
              "      <td>0</td>\n",
              "      <td>96270.64</td>\n",
              "      <td>0</td>\n",
              "    </tr>\n",
              "    <tr>\n",
              "      <th>9996</th>\n",
              "      <td>9997</td>\n",
              "      <td>15569892</td>\n",
              "      <td>Johnstone</td>\n",
              "      <td>516</td>\n",
              "      <td>France</td>\n",
              "      <td>Male</td>\n",
              "      <td>35</td>\n",
              "      <td>10</td>\n",
              "      <td>57369.61</td>\n",
              "      <td>1</td>\n",
              "      <td>1</td>\n",
              "      <td>1</td>\n",
              "      <td>101699.77</td>\n",
              "      <td>0</td>\n",
              "    </tr>\n",
              "    <tr>\n",
              "      <th>9997</th>\n",
              "      <td>9998</td>\n",
              "      <td>15584532</td>\n",
              "      <td>Liu</td>\n",
              "      <td>709</td>\n",
              "      <td>France</td>\n",
              "      <td>Female</td>\n",
              "      <td>36</td>\n",
              "      <td>7</td>\n",
              "      <td>0.00</td>\n",
              "      <td>1</td>\n",
              "      <td>0</td>\n",
              "      <td>1</td>\n",
              "      <td>42085.58</td>\n",
              "      <td>1</td>\n",
              "    </tr>\n",
              "    <tr>\n",
              "      <th>9998</th>\n",
              "      <td>9999</td>\n",
              "      <td>15682355</td>\n",
              "      <td>Sabbatini</td>\n",
              "      <td>772</td>\n",
              "      <td>Germany</td>\n",
              "      <td>Male</td>\n",
              "      <td>42</td>\n",
              "      <td>3</td>\n",
              "      <td>75075.31</td>\n",
              "      <td>2</td>\n",
              "      <td>1</td>\n",
              "      <td>0</td>\n",
              "      <td>92888.52</td>\n",
              "      <td>1</td>\n",
              "    </tr>\n",
              "    <tr>\n",
              "      <th>9999</th>\n",
              "      <td>10000</td>\n",
              "      <td>15628319</td>\n",
              "      <td>Walker</td>\n",
              "      <td>792</td>\n",
              "      <td>France</td>\n",
              "      <td>Female</td>\n",
              "      <td>28</td>\n",
              "      <td>4</td>\n",
              "      <td>130142.79</td>\n",
              "      <td>1</td>\n",
              "      <td>1</td>\n",
              "      <td>0</td>\n",
              "      <td>38190.78</td>\n",
              "      <td>0</td>\n",
              "    </tr>\n",
              "  </tbody>\n",
              "</table>\n",
              "<p>10000 rows × 14 columns</p>\n",
              "</div>"
            ],
            "text/plain": [
              "      RowNumber  CustomerId    Surname  ...  IsActiveMember EstimatedSalary Exited\n",
              "0             1    15634602   Hargrave  ...               1       101348.88      1\n",
              "1             2    15647311       Hill  ...               1       112542.58      0\n",
              "2             3    15619304       Onio  ...               0       113931.57      1\n",
              "3             4    15701354       Boni  ...               0        93826.63      0\n",
              "4             5    15737888   Mitchell  ...               1        79084.10      0\n",
              "...         ...         ...        ...  ...             ...             ...    ...\n",
              "9995       9996    15606229   Obijiaku  ...               0        96270.64      0\n",
              "9996       9997    15569892  Johnstone  ...               1       101699.77      0\n",
              "9997       9998    15584532        Liu  ...               1        42085.58      1\n",
              "9998       9999    15682355  Sabbatini  ...               0        92888.52      1\n",
              "9999      10000    15628319     Walker  ...               0        38190.78      0\n",
              "\n",
              "[10000 rows x 14 columns]"
            ]
          },
          "metadata": {
            "tags": []
          },
          "execution_count": 164
        }
      ]
    },
    {
      "cell_type": "code",
      "metadata": {
        "colab": {
          "base_uri": "https://localhost:8080/"
        },
        "id": "bHuNA05brkeW",
        "outputId": "691710f4-793a-4290-f848-06d62c11610b"
      },
      "source": [
        "df.shape"
      ],
      "execution_count": 165,
      "outputs": [
        {
          "output_type": "execute_result",
          "data": {
            "text/plain": [
              "(10000, 14)"
            ]
          },
          "metadata": {
            "tags": []
          },
          "execution_count": 165
        }
      ]
    },
    {
      "cell_type": "markdown",
      "metadata": {
        "id": "P7f6FF5u5M8b"
      },
      "source": [
        "It consists of 10000 observations and 14 variables."
      ]
    },
    {
      "cell_type": "code",
      "metadata": {
        "colab": {
          "base_uri": "https://localhost:8080/"
        },
        "id": "olc4LH1VpPjt",
        "outputId": "2f11189b-aaf8-4cdb-a5f2-78e3a350b62b"
      },
      "source": [
        "df.columns"
      ],
      "execution_count": 166,
      "outputs": [
        {
          "output_type": "execute_result",
          "data": {
            "text/plain": [
              "Index(['RowNumber', 'CustomerId', 'Surname', 'CreditScore', 'Geography',\n",
              "       'Gender', 'Age', 'Tenure', 'Balance', 'NumOfProducts', 'HasCrCard',\n",
              "       'IsActiveMember', 'EstimatedSalary', 'Exited'],\n",
              "      dtype='object')"
            ]
          },
          "metadata": {
            "tags": []
          },
          "execution_count": 166
        }
      ]
    },
    {
      "cell_type": "code",
      "metadata": {
        "colab": {
          "base_uri": "https://localhost:8080/"
        },
        "id": "Zl1Y6XEBpwSC",
        "outputId": "22359f21-a0e8-4f95-b63e-feb14fc56667"
      },
      "source": [
        " df.info()"
      ],
      "execution_count": 167,
      "outputs": [
        {
          "output_type": "stream",
          "text": [
            "<class 'pandas.core.frame.DataFrame'>\n",
            "RangeIndex: 10000 entries, 0 to 9999\n",
            "Data columns (total 14 columns):\n",
            " #   Column           Non-Null Count  Dtype  \n",
            "---  ------           --------------  -----  \n",
            " 0   RowNumber        10000 non-null  int64  \n",
            " 1   CustomerId       10000 non-null  int64  \n",
            " 2   Surname          10000 non-null  object \n",
            " 3   CreditScore      10000 non-null  int64  \n",
            " 4   Geography        10000 non-null  object \n",
            " 5   Gender           10000 non-null  object \n",
            " 6   Age              10000 non-null  int64  \n",
            " 7   Tenure           10000 non-null  int64  \n",
            " 8   Balance          10000 non-null  float64\n",
            " 9   NumOfProducts    10000 non-null  int64  \n",
            " 10  HasCrCard        10000 non-null  int64  \n",
            " 11  IsActiveMember   10000 non-null  int64  \n",
            " 12  EstimatedSalary  10000 non-null  float64\n",
            " 13  Exited           10000 non-null  int64  \n",
            "dtypes: float64(2), int64(9), object(3)\n",
            "memory usage: 1.1+ MB\n"
          ],
          "name": "stdout"
        }
      ]
    },
    {
      "cell_type": "markdown",
      "metadata": {
        "id": "qQrQBH8htDao"
      },
      "source": [
        "**Features:**\n",
        "* **RowNumber**: corresponds to the record (row) number.\n",
        "* **CustomerId**: contains random values.\n",
        "* **Surname**: the surname of a customer.\n",
        "* **CreditScore**: Credit score of a customer.\n",
        "* **Geography**: a customer’s location.\n",
        "* **Gender**: Gender (Female / Male).\n",
        "* **Age**: a customer’s age.\n",
        "* **Tenure**: refers to the number of years that the customer has been a client of the bank.\n",
        "* **Balance**: the balance in the custumer's account.\n",
        "* **NumOfProducts**: refers to the number of products that a customer has purchased through the bank.\n",
        "* **HasCrCard**: denotes whether or not a customer has a credit card (0 = No, 1 = Yes)\n",
        "* **IsActiveMember**: Active membership status (0 = No, 1 = Yes)\n",
        "* **EstimatedSalary**: the custumer salarie.\n",
        "* **Exited**: whether or not the customer left the bank (0 = No, 1 = Yes)."
      ]
    },
    {
      "cell_type": "markdown",
      "metadata": {
        "id": "RLPCsdY3v34z"
      },
      "source": [
        "As **RowNumber**, **CustomerId** and **Surname** has no effect on the output, we are going to drop those columns.\n"
      ]
    },
    {
      "cell_type": "code",
      "metadata": {
        "id": "Ppp42QzAwdAn"
      },
      "source": [
        "df = df.drop(['RowNumber', 'CustomerId', 'Surname'], axis=1)"
      ],
      "execution_count": 168,
      "outputs": []
    },
    {
      "cell_type": "code",
      "metadata": {
        "colab": {
          "base_uri": "https://localhost:8080/",
          "height": 203
        },
        "id": "teX331k2wm9Q",
        "outputId": "84902cea-2227-4ac7-9665-d422a88e82bf"
      },
      "source": [
        "df.head()"
      ],
      "execution_count": 169,
      "outputs": [
        {
          "output_type": "execute_result",
          "data": {
            "text/html": [
              "<div>\n",
              "<style scoped>\n",
              "    .dataframe tbody tr th:only-of-type {\n",
              "        vertical-align: middle;\n",
              "    }\n",
              "\n",
              "    .dataframe tbody tr th {\n",
              "        vertical-align: top;\n",
              "    }\n",
              "\n",
              "    .dataframe thead th {\n",
              "        text-align: right;\n",
              "    }\n",
              "</style>\n",
              "<table border=\"1\" class=\"dataframe\">\n",
              "  <thead>\n",
              "    <tr style=\"text-align: right;\">\n",
              "      <th></th>\n",
              "      <th>CreditScore</th>\n",
              "      <th>Geography</th>\n",
              "      <th>Gender</th>\n",
              "      <th>Age</th>\n",
              "      <th>Tenure</th>\n",
              "      <th>Balance</th>\n",
              "      <th>NumOfProducts</th>\n",
              "      <th>HasCrCard</th>\n",
              "      <th>IsActiveMember</th>\n",
              "      <th>EstimatedSalary</th>\n",
              "      <th>Exited</th>\n",
              "    </tr>\n",
              "  </thead>\n",
              "  <tbody>\n",
              "    <tr>\n",
              "      <th>0</th>\n",
              "      <td>619</td>\n",
              "      <td>France</td>\n",
              "      <td>Female</td>\n",
              "      <td>42</td>\n",
              "      <td>2</td>\n",
              "      <td>0.00</td>\n",
              "      <td>1</td>\n",
              "      <td>1</td>\n",
              "      <td>1</td>\n",
              "      <td>101348.88</td>\n",
              "      <td>1</td>\n",
              "    </tr>\n",
              "    <tr>\n",
              "      <th>1</th>\n",
              "      <td>608</td>\n",
              "      <td>Spain</td>\n",
              "      <td>Female</td>\n",
              "      <td>41</td>\n",
              "      <td>1</td>\n",
              "      <td>83807.86</td>\n",
              "      <td>1</td>\n",
              "      <td>0</td>\n",
              "      <td>1</td>\n",
              "      <td>112542.58</td>\n",
              "      <td>0</td>\n",
              "    </tr>\n",
              "    <tr>\n",
              "      <th>2</th>\n",
              "      <td>502</td>\n",
              "      <td>France</td>\n",
              "      <td>Female</td>\n",
              "      <td>42</td>\n",
              "      <td>8</td>\n",
              "      <td>159660.80</td>\n",
              "      <td>3</td>\n",
              "      <td>1</td>\n",
              "      <td>0</td>\n",
              "      <td>113931.57</td>\n",
              "      <td>1</td>\n",
              "    </tr>\n",
              "    <tr>\n",
              "      <th>3</th>\n",
              "      <td>699</td>\n",
              "      <td>France</td>\n",
              "      <td>Female</td>\n",
              "      <td>39</td>\n",
              "      <td>1</td>\n",
              "      <td>0.00</td>\n",
              "      <td>2</td>\n",
              "      <td>0</td>\n",
              "      <td>0</td>\n",
              "      <td>93826.63</td>\n",
              "      <td>0</td>\n",
              "    </tr>\n",
              "    <tr>\n",
              "      <th>4</th>\n",
              "      <td>850</td>\n",
              "      <td>Spain</td>\n",
              "      <td>Female</td>\n",
              "      <td>43</td>\n",
              "      <td>2</td>\n",
              "      <td>125510.82</td>\n",
              "      <td>1</td>\n",
              "      <td>1</td>\n",
              "      <td>1</td>\n",
              "      <td>79084.10</td>\n",
              "      <td>0</td>\n",
              "    </tr>\n",
              "  </tbody>\n",
              "</table>\n",
              "</div>"
            ],
            "text/plain": [
              "   CreditScore Geography  Gender  ...  IsActiveMember  EstimatedSalary  Exited\n",
              "0          619    France  Female  ...               1        101348.88       1\n",
              "1          608     Spain  Female  ...               1        112542.58       0\n",
              "2          502    France  Female  ...               0        113931.57       1\n",
              "3          699    France  Female  ...               0         93826.63       0\n",
              "4          850     Spain  Female  ...               1         79084.10       0\n",
              "\n",
              "[5 rows x 11 columns]"
            ]
          },
          "metadata": {
            "tags": []
          },
          "execution_count": 169
        }
      ]
    },
    {
      "cell_type": "code",
      "metadata": {
        "colab": {
          "base_uri": "https://localhost:8080/",
          "height": 295
        },
        "id": "EpsGwZfSLa0g",
        "outputId": "74245de4-3b43-46ae-b8e6-7b01b6097c5c"
      },
      "source": [
        "df.describe()"
      ],
      "execution_count": 170,
      "outputs": [
        {
          "output_type": "execute_result",
          "data": {
            "text/html": [
              "<div>\n",
              "<style scoped>\n",
              "    .dataframe tbody tr th:only-of-type {\n",
              "        vertical-align: middle;\n",
              "    }\n",
              "\n",
              "    .dataframe tbody tr th {\n",
              "        vertical-align: top;\n",
              "    }\n",
              "\n",
              "    .dataframe thead th {\n",
              "        text-align: right;\n",
              "    }\n",
              "</style>\n",
              "<table border=\"1\" class=\"dataframe\">\n",
              "  <thead>\n",
              "    <tr style=\"text-align: right;\">\n",
              "      <th></th>\n",
              "      <th>CreditScore</th>\n",
              "      <th>Age</th>\n",
              "      <th>Tenure</th>\n",
              "      <th>Balance</th>\n",
              "      <th>NumOfProducts</th>\n",
              "      <th>HasCrCard</th>\n",
              "      <th>IsActiveMember</th>\n",
              "      <th>EstimatedSalary</th>\n",
              "      <th>Exited</th>\n",
              "    </tr>\n",
              "  </thead>\n",
              "  <tbody>\n",
              "    <tr>\n",
              "      <th>count</th>\n",
              "      <td>10000.000000</td>\n",
              "      <td>10000.000000</td>\n",
              "      <td>10000.000000</td>\n",
              "      <td>10000.000000</td>\n",
              "      <td>10000.000000</td>\n",
              "      <td>10000.00000</td>\n",
              "      <td>10000.000000</td>\n",
              "      <td>10000.000000</td>\n",
              "      <td>10000.000000</td>\n",
              "    </tr>\n",
              "    <tr>\n",
              "      <th>mean</th>\n",
              "      <td>650.528800</td>\n",
              "      <td>38.921800</td>\n",
              "      <td>5.012800</td>\n",
              "      <td>76485.889288</td>\n",
              "      <td>1.530200</td>\n",
              "      <td>0.70550</td>\n",
              "      <td>0.515100</td>\n",
              "      <td>100090.239881</td>\n",
              "      <td>0.203700</td>\n",
              "    </tr>\n",
              "    <tr>\n",
              "      <th>std</th>\n",
              "      <td>96.653299</td>\n",
              "      <td>10.487806</td>\n",
              "      <td>2.892174</td>\n",
              "      <td>62397.405202</td>\n",
              "      <td>0.581654</td>\n",
              "      <td>0.45584</td>\n",
              "      <td>0.499797</td>\n",
              "      <td>57510.492818</td>\n",
              "      <td>0.402769</td>\n",
              "    </tr>\n",
              "    <tr>\n",
              "      <th>min</th>\n",
              "      <td>350.000000</td>\n",
              "      <td>18.000000</td>\n",
              "      <td>0.000000</td>\n",
              "      <td>0.000000</td>\n",
              "      <td>1.000000</td>\n",
              "      <td>0.00000</td>\n",
              "      <td>0.000000</td>\n",
              "      <td>11.580000</td>\n",
              "      <td>0.000000</td>\n",
              "    </tr>\n",
              "    <tr>\n",
              "      <th>25%</th>\n",
              "      <td>584.000000</td>\n",
              "      <td>32.000000</td>\n",
              "      <td>3.000000</td>\n",
              "      <td>0.000000</td>\n",
              "      <td>1.000000</td>\n",
              "      <td>0.00000</td>\n",
              "      <td>0.000000</td>\n",
              "      <td>51002.110000</td>\n",
              "      <td>0.000000</td>\n",
              "    </tr>\n",
              "    <tr>\n",
              "      <th>50%</th>\n",
              "      <td>652.000000</td>\n",
              "      <td>37.000000</td>\n",
              "      <td>5.000000</td>\n",
              "      <td>97198.540000</td>\n",
              "      <td>1.000000</td>\n",
              "      <td>1.00000</td>\n",
              "      <td>1.000000</td>\n",
              "      <td>100193.915000</td>\n",
              "      <td>0.000000</td>\n",
              "    </tr>\n",
              "    <tr>\n",
              "      <th>75%</th>\n",
              "      <td>718.000000</td>\n",
              "      <td>44.000000</td>\n",
              "      <td>7.000000</td>\n",
              "      <td>127644.240000</td>\n",
              "      <td>2.000000</td>\n",
              "      <td>1.00000</td>\n",
              "      <td>1.000000</td>\n",
              "      <td>149388.247500</td>\n",
              "      <td>0.000000</td>\n",
              "    </tr>\n",
              "    <tr>\n",
              "      <th>max</th>\n",
              "      <td>850.000000</td>\n",
              "      <td>92.000000</td>\n",
              "      <td>10.000000</td>\n",
              "      <td>250898.090000</td>\n",
              "      <td>4.000000</td>\n",
              "      <td>1.00000</td>\n",
              "      <td>1.000000</td>\n",
              "      <td>199992.480000</td>\n",
              "      <td>1.000000</td>\n",
              "    </tr>\n",
              "  </tbody>\n",
              "</table>\n",
              "</div>"
            ],
            "text/plain": [
              "        CreditScore           Age  ...  EstimatedSalary        Exited\n",
              "count  10000.000000  10000.000000  ...     10000.000000  10000.000000\n",
              "mean     650.528800     38.921800  ...    100090.239881      0.203700\n",
              "std       96.653299     10.487806  ...     57510.492818      0.402769\n",
              "min      350.000000     18.000000  ...        11.580000      0.000000\n",
              "25%      584.000000     32.000000  ...     51002.110000      0.000000\n",
              "50%      652.000000     37.000000  ...    100193.915000      0.000000\n",
              "75%      718.000000     44.000000  ...    149388.247500      0.000000\n",
              "max      850.000000     92.000000  ...    199992.480000      1.000000\n",
              "\n",
              "[8 rows x 9 columns]"
            ]
          },
          "metadata": {
            "tags": []
          },
          "execution_count": 170
        }
      ]
    },
    {
      "cell_type": "markdown",
      "metadata": {
        "id": "jMhfgYQ7wqod"
      },
      "source": [
        "Let's check missing values:"
      ]
    },
    {
      "cell_type": "code",
      "metadata": {
        "colab": {
          "base_uri": "https://localhost:8080/"
        },
        "id": "9pEfVi-RwoGC",
        "outputId": "3a410bf3-ee2c-4374-f54b-e9f9999b4983"
      },
      "source": [
        "df.isnull().sum()"
      ],
      "execution_count": 171,
      "outputs": [
        {
          "output_type": "execute_result",
          "data": {
            "text/plain": [
              "CreditScore        0\n",
              "Geography          0\n",
              "Gender             0\n",
              "Age                0\n",
              "Tenure             0\n",
              "Balance            0\n",
              "NumOfProducts      0\n",
              "HasCrCard          0\n",
              "IsActiveMember     0\n",
              "EstimatedSalary    0\n",
              "Exited             0\n",
              "dtype: int64"
            ]
          },
          "metadata": {
            "tags": []
          },
          "execution_count": 171
        }
      ]
    },
    {
      "cell_type": "markdown",
      "metadata": {
        "id": "PDj-egiSxL5h"
      },
      "source": [
        "The provided Dataset is quite clean, we don't have NaN values."
      ]
    },
    {
      "cell_type": "markdown",
      "metadata": {
        "id": "1pP_90CjxvYm"
      },
      "source": [
        "Now let's explore the remaining data."
      ]
    },
    {
      "cell_type": "markdown",
      "metadata": {
        "id": "UhjcrNKxySqq"
      },
      "source": [
        "# Exploring data"
      ]
    },
    {
      "cell_type": "code",
      "metadata": {
        "colab": {
          "base_uri": "https://localhost:8080/",
          "height": 248
        },
        "id": "n-0i2iyb3f2c",
        "outputId": "f62aa1fd-cb72-4ae6-8d47-6707316d178f"
      },
      "source": [
        "labels = [\"Churned\", \"Retained\"]\n",
        "y = [df.Exited[df['Exited']==1].count(), df.Exited[df['Exited']==0].count()]\n",
        "explode = (0, 0.1)\n",
        "plt.pie(y, labels = labels, explode = explode, startangle = 90, autopct='%1.1f%%',)\n",
        "plt.show() "
      ],
      "execution_count": 172,
      "outputs": [
        {
          "output_type": "display_data",
          "data": {
            "image/png": "[encoded data removed]",
            "text/plain": [
              "<Figure size 432x288 with 1 Axes>"
            ]
          },
          "metadata": {
            "tags": []
          }
        }
      ]
    },
    {
      "cell_type": "markdown",
      "metadata": {
        "id": "oFjQKQ8QAh2d"
      },
      "source": [
        " 20.4 % of costumers left the bank."
      ]
    },
    {
      "cell_type": "markdown",
      "metadata": {
        "id": "4TMLKQWtZU77"
      },
      "source": [
        "## **Exploring categorical variables**:"
      ]
    },
    {
      "cell_type": "code",
      "metadata": {
        "colab": {
          "base_uri": "https://localhost:8080/",
          "height": 623
        },
        "id": "-T-G2fGKAU9p",
        "outputId": "491fbbb1-3ad1-4ddd-c936-6d540bcb3c33"
      },
      "source": [
        "fig, sty = plt.subplots(3, 2, figsize=(15, 10))\n",
        "sns.countplot(data = df, x='Geography', hue='Exited', ax = sty[0][0])\n",
        "sns.countplot(data = df, x='Gender', hue = 'Exited', ax = sty[0][1])\n",
        "sns.countplot(data = df, x='HasCrCard', hue = 'Exited',ax = sty[1][0])\n",
        "sns.countplot(data = df, x='IsActiveMember', hue = 'Exited', ax = sty[1][1])\n",
        "sns.countplot(data = df, x='NumOfProducts' , hue='Exited', ax = sty[2][0])\n",
        "sns.countplot(data = df, x='Tenure' , hue='Exited', ax = sty[2][1])"
      ],
      "execution_count": 173,
      "outputs": [
        {
          "output_type": "execute_result",
          "data": {
            "text/plain": [
              "<matplotlib.axes._subplots.AxesSubplot at 0x7f1f8cfc3e50>"
            ]
          },
          "metadata": {
            "tags": []
          },
          "execution_count": 173
        },
        {
          "output_type": "display_data",
          "data": {
            "image/png": "[encoded data removed]",
            "text/plain": [
              "<Figure size 1080x720 with 6 Axes>"
            ]
          },
          "metadata": {
            "tags": [],
            "needs_background": "light"
          }
        }
      ]
    },
    {
      "cell_type": "markdown",
      "metadata": {
        "id": "5J1CSGirA4KQ"
      },
      "source": [
        "**From the analysis of the graphics we can say that:**\n",
        "* Customers mainly live in France, the number of customers living in Germany and Spain is very close.\n",
        " The French tend to stay with the bank, Germans tend to live the bank.\n",
        "* Males tend to stay with the bank.\n",
        "* Customers usually hold credit cards. Presence of a credit card does not seem to affect the exits.\n",
        "* Customers use the bank more actively, active members seem to stay.\n",
        "\n",
        "* The more products the customer has purchased through the bank, the less likely he is to leave.\n",
        "* The number of years that the customer has been a client of the bank does not seem to affect the exits.\n",
        "\n"
      ]
    },
    {
      "cell_type": "markdown",
      "metadata": {
        "id": "EbActjuxaJ0d"
      },
      "source": [
        "## **Exploring Continuous variables:**"
      ]
    },
    {
      "cell_type": "code",
      "metadata": {
        "colab": {
          "base_uri": "https://localhost:8080/",
          "height": 386
        },
        "id": "yzBTEp0nTesb",
        "outputId": "762bb4e3-a75a-42b8-bd16-befb25a330af"
      },
      "source": [
        "sns.FacetGrid(df, hue = \"Exited\", height = 5).map(sns.kdeplot, \"Age\", shade= True).add_legend()\n"
      ],
      "execution_count": 174,
      "outputs": [
        {
          "output_type": "execute_result",
          "data": {
            "text/plain": [
              "<seaborn.axisgrid.FacetGrid at 0x7f1f8d122050>"
            ]
          },
          "metadata": {
            "tags": []
          },
          "execution_count": 174
        },
        {
          "output_type": "display_data",
          "data": {
            "image/png": "[encoded data removed]",
            "text/plain": [
              "<Figure size 402.375x360 with 1 Axes>"
            ]
          },
          "metadata": {
            "tags": [],
            "needs_background": "light"
          }
        }
      ]
    },
    {
      "cell_type": "code",
      "metadata": {
        "colab": {
          "base_uri": "https://localhost:8080/",
          "height": 334
        },
        "id": "SLubIaXqfo9_",
        "outputId": "e6b0b772-89e0-42c6-d929-afda4266ab84"
      },
      "source": [
        "plt.figure(figsize=(20,5))\n",
        "plt.xlim(10,90)\n",
        "sns.kdeplot(data=df, x=\"Age\", hue=\"Exited\")\n",
        "plt.show()"
      ],
      "execution_count": 175,
      "outputs": [
        {
          "output_type": "display_data",
          "data": {
            "image/png": "[encoded data removed]",
            "text/plain": [
              "<Figure size 1440x360 with 1 Axes>"
            ]
          },
          "metadata": {
            "tags": [],
            "needs_background": "light"
          }
        }
      ]
    },
    {
      "cell_type": "code",
      "metadata": {
        "colab": {
          "base_uri": "https://localhost:8080/"
        },
        "id": "qIKe7mGe2Lxe",
        "outputId": "c9855732-2951-46ec-9dc7-749c1e1a17aa"
      },
      "source": [
        "df.groupby(df[\"Exited\"])[\"Age\"].mean()"
      ],
      "execution_count": 176,
      "outputs": [
        {
          "output_type": "execute_result",
          "data": {
            "text/plain": [
              "Exited\n",
              "0    37.408389\n",
              "1    44.837997\n",
              "Name: Age, dtype: float64"
            ]
          },
          "metadata": {
            "tags": []
          },
          "execution_count": 176
        }
      ]
    },
    {
      "cell_type": "markdown",
      "metadata": {
        "id": "lsAuaZUJ2SQj"
      },
      "source": [
        "As the age of the customer increases, the customer losing rate increases.\n",
        "\n",
        "\n",
        "Average age of customers who did not leave the bank = 37.\n",
        "\n",
        "\n",
        "Average age of customers leaving the bank = 44."
      ]
    },
    {
      "cell_type": "code",
      "metadata": {
        "colab": {
          "base_uri": "https://localhost:8080/",
          "height": 345
        },
        "id": "DKil4RLKebPT",
        "outputId": "54ff61e6-e9b5-4d60-a0dd-af502eae3559"
      },
      "source": [
        "plt.figure(figsize=(20,5))\n",
        "plt.xlim(-50000,270000)\n",
        "sns.kdeplot(data=df, x=\"Balance\", hue=\"Exited\")\n",
        "plt.show()"
      ],
      "execution_count": 177,
      "outputs": [
        {
          "output_type": "display_data",
          "data": {
            "image/png": "[encoded data removed]",
            "text/plain": [
              "<Figure size 1440x360 with 1 Axes>"
            ]
          },
          "metadata": {
            "tags": [],
            "needs_background": "light"
          }
        }
      ]
    },
    {
      "cell_type": "code",
      "metadata": {
        "colab": {
          "base_uri": "https://localhost:8080/",
          "height": 386
        },
        "id": "l8Rh1ROg4M1H",
        "outputId": "8a0ae2ce-0ab1-41f2-e207-d9b780d761d0"
      },
      "source": [
        "sns.FacetGrid(df, hue = \"Exited\", height = 5).map(sns.kdeplot, \"Balance\", shade= True).add_legend()"
      ],
      "execution_count": 178,
      "outputs": [
        {
          "output_type": "execute_result",
          "data": {
            "text/plain": [
              "<seaborn.axisgrid.FacetGrid at 0x7f1f8c9b0950>"
            ]
          },
          "metadata": {
            "tags": []
          },
          "execution_count": 178
        },
        {
          "output_type": "display_data",
          "data": {
            "image/png": "[encoded data removed]",
            "text/plain": [
              "<Figure size 402.375x360 with 1 Axes>"
            ]
          },
          "metadata": {
            "tags": [],
            "needs_background": "light"
          }
        }
      ]
    },
    {
      "cell_type": "markdown",
      "metadata": {
        "id": "znmFZxvV4cGr"
      },
      "source": [
        "There is a high number of customers with 0 account balance."
      ]
    },
    {
      "cell_type": "markdown",
      "metadata": {
        "id": "NDBSS-hVahWg"
      },
      "source": [
        "# Outliers:"
      ]
    },
    {
      "cell_type": "markdown",
      "metadata": {
        "id": "2eNgP1OatFKp"
      },
      "source": [
        "Finding and Removing Outliers in variables."
      ]
    },
    {
      "cell_type": "markdown",
      "metadata": {
        "id": "knWxEOVXtYXt"
      },
      "source": [
        "For that We use the boxplot graph."
      ]
    },
    {
      "cell_type": "code",
      "metadata": {
        "colab": {
          "base_uri": "https://localhost:8080/",
          "height": 1000
        },
        "id": "Ux1Gld8vcWMG",
        "outputId": "64098ba2-4bc2-4ec9-dac0-f87074e5c462"
      },
      "source": [
        "outlier_plot = [\"CreditScore\",\"Age\",\"Tenure\",\"Balance\",\"NumOfProducts\",\"EstimatedSalary\"]\n",
        "for i in outlier_plot:\n",
        "    sns.boxplot(x = df[i])\n",
        "    plt.show()"
      ],
      "execution_count": 179,
      "outputs": [
        {
          "output_type": "display_data",
          "data": {
            "image/png": "[encoded data removed]",
            "text/plain": [
              "<Figure size 432x288 with 1 Axes>"
            ]
          },
          "metadata": {
            "tags": [],
            "needs_background": "light"
          }
        },
        {
          "output_type": "display_data",
          "data": {
            "image/png": "[encoded data removed]",
            "text/plain": [
              "<Figure size 432x288 with 1 Axes>"
            ]
          },
          "metadata": {
            "tags": [],
            "needs_background": "light"
          }
        },
        {
          "output_type": "display_data",
          "data": {
            "image/png": "[encoded data removed]",
            "text/plain": [
              "<Figure size 432x288 with 1 Axes>"
            ]
          },
          "metadata": {
            "tags": [],
            "needs_background": "light"
          }
        },
        {
          "output_type": "display_data",
          "data": {
            "image/png": "[encoded data removed]",
            "text/plain": [
              "<Figure size 432x288 with 1 Axes>"
            ]
          },
          "metadata": {
            "tags": [],
            "needs_background": "light"
          }
        },
        {
          "output_type": "display_data",
          "data": {
            "image/png": "[encoded data removed]",
            "text/plain": [
              "<Figure size 432x288 with 1 Axes>"
            ]
          },
          "metadata": {
            "tags": [],
            "needs_background": "light"
          }
        },
        {
          "output_type": "display_data",
          "data": {
            "image/png": "[encoded data removed]",
            "text/plain": [
              "<Figure size 432x288 with 1 Axes>"
            ]
          },
          "metadata": {
            "tags": [],
            "needs_background": "light"
          }
        }
      ]
    },
    {
      "cell_type": "markdown",
      "metadata": {
        "id": "VDwqtozste9B"
      },
      "source": [
        "Seems like CreditScore, Age, NumOfProducts have outliers"
      ]
    },
    {
      "cell_type": "code",
      "metadata": {
        "id": "spnR17RttzC8"
      },
      "source": [
        "# remove outliers \n",
        "def outlier(df,columns):\n",
        "  for column in columns:\n",
        "    q1 = df[column].quantile(0.25)\n",
        "    q3 = df[column].quantile(0.75)\n",
        "    iqr = q3 - q1\n",
        "    fence_low = q1 - 1.5 * iqr\n",
        "    fence_high = q3 + 1.5 * iqr\n",
        "    df = df.loc[(df[column] > fence_low) & (df[column] < fence_high)]\n",
        "  return df"
      ],
      "execution_count": 180,
      "outputs": []
    },
    {
      "cell_type": "markdown",
      "metadata": {
        "id": "p5y_4shOuThL"
      },
      "source": [
        "Cleaning the dataset by removing outliers:"
      ]
    },
    {
      "cell_type": "code",
      "metadata": {
        "colab": {
          "base_uri": "https://localhost:8080/"
        },
        "id": "hnyODYuguOm2",
        "outputId": "d754a606-f4d6-4e70-ae51-c3992d68807a"
      },
      "source": [
        "columns = ['CreditScore', 'Age', 'NumOfProducts']\n",
        "\n",
        "df = outlier(df, columns)\n",
        "\n",
        "print(df.shape)\n"
      ],
      "execution_count": 181,
      "outputs": [
        {
          "output_type": "stream",
          "text": [
            "(9515, 11)\n"
          ],
          "name": "stdout"
        }
      ]
    },
    {
      "cell_type": "markdown",
      "metadata": {
        "id": "d8IbUy4pzuHx"
      },
      "source": [
        "## **Correlation Matrix**:"
      ]
    },
    {
      "cell_type": "markdown",
      "metadata": {
        "id": "2HMX0Z4u4XsE"
      },
      "source": [
        "Looking at Correlations between the variables\n",
        "\n"
      ]
    },
    {
      "cell_type": "code",
      "metadata": {
        "colab": {
          "base_uri": "https://localhost:8080/",
          "height": 626
        },
        "id": "AcJ8o7tC4MNK",
        "outputId": "4dcf20b2-cdfb-4111-905c-c1ee7543b54a"
      },
      "source": [
        "# Calculate correlations between numeric features\n",
        "correlations = df.corr()\n",
        "\n",
        "# sort features in order of their correlation with \"Exited\"\n",
        "sort_corr_cols = correlations.Exited.sort_values(ascending=False).keys()\n",
        "sort_corr = correlations.loc[sort_corr_cols,sort_corr_cols]\n",
        "sort_corr\n",
        "\n",
        "# Generate a mask for the upper triangle\n",
        "corr_mask = np.zeros_like(df.corr())\n",
        "corr_mask[np.triu_indices_from(corr_mask)] = 1\n",
        "\n",
        "# Make the figsize 9x9\n",
        "plt.figure(figsize=(9,9))\n",
        "\n",
        "# Plot heatmap of annotated correlations; change background to white\n",
        "sns.heatmap(sort_corr*100, \n",
        "                cmap='RdBu', \n",
        "                annot=True,\n",
        "                fmt='.0f',\n",
        "                mask=corr_mask,)\n",
        "\n",
        "plt.title('Correlations by Exited', fontsize=14)\n",
        "plt.yticks(rotation=0)\n",
        "plt.show()"
      ],
      "execution_count": 182,
      "outputs": [
        {
          "output_type": "display_data",
          "data": {
            "image/png": "[encoded data removed]",
            "text/plain": [
              "<Figure size 648x648 with 2 Axes>"
            ]
          },
          "metadata": {
            "tags": [],
            "needs_background": "light"
          }
        }
      ]
    },
    {
      "cell_type": "code",
      "metadata": {
        "colab": {
          "base_uri": "https://localhost:8080/",
          "height": 358
        },
        "id": "qIejR3qai9so",
        "outputId": "a05d17bb-dcbf-45dd-a076-6d7cf659e7f0"
      },
      "source": [
        "list_corr = [\"CreditScore\",\"Age\",\"Tenure\",\"Balance\",\"NumOfProducts\",\"EstimatedSalary\",\"Exited\"]\n",
        "sns.heatmap(df[list_corr].corr(), annot = True, linecolor = \"black\", lw = 0.5, fmt= '.2f')"
      ],
      "execution_count": 183,
      "outputs": [
        {
          "output_type": "execute_result",
          "data": {
            "text/plain": [
              "<matplotlib.axes._subplots.AxesSubplot at 0x7f1f8c57f610>"
            ]
          },
          "metadata": {
            "tags": []
          },
          "execution_count": 183
        },
        {
          "output_type": "display_data",
          "data": {
            "image/png": "[encoded data removed]",
            "text/plain": [
              "<Figure size 432x288 with 2 Axes>"
            ]
          },
          "metadata": {
            "tags": [],
            "needs_background": "light"
          }
        }
      ]
    },
    {
      "cell_type": "markdown",
      "metadata": {
        "id": "SOxMQsE50dW9"
      },
      "source": [
        "1. Age has the strongest relation with Exited. As the age of the customer increases, the rate of losing the customer increases. (Positive strong relationship)\n",
        "2. Exited and Balance variable have a relatively strong relationship.\n",
        "3. Exited and the variable NumOfProducts have a moderately strong relationship. They have a strong negative relationship."
      ]
    },
    {
      "cell_type": "code",
      "metadata": {
        "colab": {
          "base_uri": "https://localhost:8080/",
          "height": 296
        },
        "id": "pRkB8wFw3WJ3",
        "outputId": "6648754c-1520-4f08-8418-6e45f0020c8f"
      },
      "source": [
        "sns.lineplot(x = \"Age\", y = \"Exited\", data = df)\n"
      ],
      "execution_count": 184,
      "outputs": [
        {
          "output_type": "execute_result",
          "data": {
            "text/plain": [
              "<matplotlib.axes._subplots.AxesSubplot at 0x7f1f8c57fc10>"
            ]
          },
          "metadata": {
            "tags": []
          },
          "execution_count": 184
        },
        {
          "output_type": "display_data",
          "data": {
            "image/png": "[encoded data removed]",
            "text/plain": [
              "<Figure size 432x288 with 1 Axes>"
            ]
          },
          "metadata": {
            "tags": [],
            "needs_background": "light"
          }
        }
      ]
    },
    {
      "cell_type": "markdown",
      "metadata": {
        "id": "XzXL5mIu3ytV"
      },
      "source": [
        "This proves the big correlation between age and exited."
      ]
    },
    {
      "cell_type": "markdown",
      "metadata": {
        "id": "scM3JpZ2jyL2"
      },
      "source": [
        "# Feature Engineering\n"
      ]
    },
    {
      "cell_type": "markdown",
      "metadata": {
        "id": "fCHm0ewL7MFL"
      },
      "source": [
        "Gender, Geography and HasCrCard need to be encoded\n",
        "\n",
        "First, we drop IsActiveMember, NumOfProducts and  Tenure since they has no effect on our target variable."
      ]
    },
    {
      "cell_type": "code",
      "metadata": {
        "id": "RMsae9wHMW7W"
      },
      "source": [
        "x_df = df.drop([\"Exited\",\"IsActiveMember\",\"NumOfProducts\", \"Tenure\"], axis=1)\n",
        "y = df[\"Exited\"]"
      ],
      "execution_count": 185,
      "outputs": []
    },
    {
      "cell_type": "code",
      "metadata": {
        "id": "MA4MsIm4lgVK"
      },
      "source": [
        "x_df[\"HasCrCard\"] = df[\"HasCrCard\"].astype(\"category\")\n",
        "\n",
        "x_df = pd.get_dummies(x_df, columns = [\"Geography\"])\n",
        "x_df = pd.get_dummies(x_df, columns = [\"Gender\"])\n",
        "x_df = pd.get_dummies(x_df, columns = [\"HasCrCard\"])\n"
      ],
      "execution_count": 186,
      "outputs": []
    },
    {
      "cell_type": "code",
      "metadata": {
        "colab": {
          "base_uri": "https://localhost:8080/",
          "height": 203
        },
        "id": "xzpSFIfZl2YD",
        "outputId": "58224728-9fc2-4904-de1d-7e635bfdf361"
      },
      "source": [
        "x_df.head()"
      ],
      "execution_count": 187,
      "outputs": [
        {
          "output_type": "execute_result",
          "data": {
            "text/html": [
              "<div>\n",
              "<style scoped>\n",
              "    .dataframe tbody tr th:only-of-type {\n",
              "        vertical-align: middle;\n",
              "    }\n",
              "\n",
              "    .dataframe tbody tr th {\n",
              "        vertical-align: top;\n",
              "    }\n",
              "\n",
              "    .dataframe thead th {\n",
              "        text-align: right;\n",
              "    }\n",
              "</style>\n",
              "<table border=\"1\" class=\"dataframe\">\n",
              "  <thead>\n",
              "    <tr style=\"text-align: right;\">\n",
              "      <th></th>\n",
              "      <th>CreditScore</th>\n",
              "      <th>Age</th>\n",
              "      <th>Balance</th>\n",
              "      <th>EstimatedSalary</th>\n",
              "      <th>Geography_France</th>\n",
              "      <th>Geography_Germany</th>\n",
              "      <th>Geography_Spain</th>\n",
              "      <th>Gender_Female</th>\n",
              "      <th>Gender_Male</th>\n",
              "      <th>HasCrCard_0</th>\n",
              "      <th>HasCrCard_1</th>\n",
              "    </tr>\n",
              "  </thead>\n",
              "  <tbody>\n",
              "    <tr>\n",
              "      <th>0</th>\n",
              "      <td>619</td>\n",
              "      <td>42</td>\n",
              "      <td>0.00</td>\n",
              "      <td>101348.88</td>\n",
              "      <td>1</td>\n",
              "      <td>0</td>\n",
              "      <td>0</td>\n",
              "      <td>1</td>\n",
              "      <td>0</td>\n",
              "      <td>0</td>\n",
              "      <td>1</td>\n",
              "    </tr>\n",
              "    <tr>\n",
              "      <th>1</th>\n",
              "      <td>608</td>\n",
              "      <td>41</td>\n",
              "      <td>83807.86</td>\n",
              "      <td>112542.58</td>\n",
              "      <td>0</td>\n",
              "      <td>0</td>\n",
              "      <td>1</td>\n",
              "      <td>1</td>\n",
              "      <td>0</td>\n",
              "      <td>1</td>\n",
              "      <td>0</td>\n",
              "    </tr>\n",
              "    <tr>\n",
              "      <th>2</th>\n",
              "      <td>502</td>\n",
              "      <td>42</td>\n",
              "      <td>159660.80</td>\n",
              "      <td>113931.57</td>\n",
              "      <td>1</td>\n",
              "      <td>0</td>\n",
              "      <td>0</td>\n",
              "      <td>1</td>\n",
              "      <td>0</td>\n",
              "      <td>0</td>\n",
              "      <td>1</td>\n",
              "    </tr>\n",
              "    <tr>\n",
              "      <th>3</th>\n",
              "      <td>699</td>\n",
              "      <td>39</td>\n",
              "      <td>0.00</td>\n",
              "      <td>93826.63</td>\n",
              "      <td>1</td>\n",
              "      <td>0</td>\n",
              "      <td>0</td>\n",
              "      <td>1</td>\n",
              "      <td>0</td>\n",
              "      <td>1</td>\n",
              "      <td>0</td>\n",
              "    </tr>\n",
              "    <tr>\n",
              "      <th>4</th>\n",
              "      <td>850</td>\n",
              "      <td>43</td>\n",
              "      <td>125510.82</td>\n",
              "      <td>79084.10</td>\n",
              "      <td>0</td>\n",
              "      <td>0</td>\n",
              "      <td>1</td>\n",
              "      <td>1</td>\n",
              "      <td>0</td>\n",
              "      <td>0</td>\n",
              "      <td>1</td>\n",
              "    </tr>\n",
              "  </tbody>\n",
              "</table>\n",
              "</div>"
            ],
            "text/plain": [
              "   CreditScore  Age    Balance  ...  Gender_Male  HasCrCard_0  HasCrCard_1\n",
              "0          619   42       0.00  ...            0            0            1\n",
              "1          608   41   83807.86  ...            0            1            0\n",
              "2          502   42  159660.80  ...            0            0            1\n",
              "3          699   39       0.00  ...            0            1            0\n",
              "4          850   43  125510.82  ...            0            0            1\n",
              "\n",
              "[5 rows x 11 columns]"
            ]
          },
          "metadata": {
            "tags": []
          },
          "execution_count": 187
        }
      ]
    },
    {
      "cell_type": "code",
      "metadata": {
        "colab": {
          "base_uri": "https://localhost:8080/"
        },
        "id": "Fdu9jgPclYDg",
        "outputId": "2aed82c7-73e4-449c-c4e3-e3e2da14049d"
      },
      "source": [
        "y"
      ],
      "execution_count": 188,
      "outputs": [
        {
          "output_type": "execute_result",
          "data": {
            "text/plain": [
              "0       1\n",
              "1       0\n",
              "2       1\n",
              "3       0\n",
              "4       0\n",
              "       ..\n",
              "9995    0\n",
              "9996    0\n",
              "9997    1\n",
              "9998    1\n",
              "9999    0\n",
              "Name: Exited, Length: 9515, dtype: int64"
            ]
          },
          "metadata": {
            "tags": []
          },
          "execution_count": 188
        }
      ]
    },
    {
      "cell_type": "markdown",
      "metadata": {
        "id": "OFeVCqGw87xW"
      },
      "source": [
        "# **Feature Scaling**"
      ]
    },
    {
      "cell_type": "markdown",
      "metadata": {
        "id": "G7dk_RI39Do3"
      },
      "source": [
        "we apply the normalization method."
      ]
    },
    {
      "cell_type": "code",
      "metadata": {
        "colab": {
          "base_uri": "https://localhost:8080/",
          "height": 203
        },
        "id": "6A5ZTbxuMW4Y",
        "outputId": "85564080-01e8-431f-bb03-6a25a1646496"
      },
      "source": [
        "x = (x_df - np.min(x_df)) / (np.max(x_df)-np.min(x_df)).values\n",
        "x.head()"
      ],
      "execution_count": 189,
      "outputs": [
        {
          "output_type": "execute_result",
          "data": {
            "text/html": [
              "<div>\n",
              "<style scoped>\n",
              "    .dataframe tbody tr th:only-of-type {\n",
              "        vertical-align: middle;\n",
              "    }\n",
              "\n",
              "    .dataframe tbody tr th {\n",
              "        vertical-align: top;\n",
              "    }\n",
              "\n",
              "    .dataframe thead th {\n",
              "        text-align: right;\n",
              "    }\n",
              "</style>\n",
              "<table border=\"1\" class=\"dataframe\">\n",
              "  <thead>\n",
              "    <tr style=\"text-align: right;\">\n",
              "      <th></th>\n",
              "      <th>CreditScore</th>\n",
              "      <th>Age</th>\n",
              "      <th>Balance</th>\n",
              "      <th>EstimatedSalary</th>\n",
              "      <th>Geography_France</th>\n",
              "      <th>Geography_Germany</th>\n",
              "      <th>Geography_Spain</th>\n",
              "      <th>Gender_Female</th>\n",
              "      <th>Gender_Male</th>\n",
              "      <th>HasCrCard_0</th>\n",
              "      <th>HasCrCard_1</th>\n",
              "    </tr>\n",
              "  </thead>\n",
              "  <tbody>\n",
              "    <tr>\n",
              "      <th>0</th>\n",
              "      <td>0.502155</td>\n",
              "      <td>0.558140</td>\n",
              "      <td>0.000000</td>\n",
              "      <td>0.506735</td>\n",
              "      <td>1.0</td>\n",
              "      <td>0.0</td>\n",
              "      <td>0.0</td>\n",
              "      <td>1.0</td>\n",
              "      <td>0.0</td>\n",
              "      <td>0.0</td>\n",
              "      <td>1.0</td>\n",
              "    </tr>\n",
              "    <tr>\n",
              "      <th>1</th>\n",
              "      <td>0.478448</td>\n",
              "      <td>0.534884</td>\n",
              "      <td>0.334031</td>\n",
              "      <td>0.562709</td>\n",
              "      <td>0.0</td>\n",
              "      <td>0.0</td>\n",
              "      <td>1.0</td>\n",
              "      <td>1.0</td>\n",
              "      <td>0.0</td>\n",
              "      <td>1.0</td>\n",
              "      <td>0.0</td>\n",
              "    </tr>\n",
              "    <tr>\n",
              "      <th>2</th>\n",
              "      <td>0.250000</td>\n",
              "      <td>0.558140</td>\n",
              "      <td>0.636357</td>\n",
              "      <td>0.569654</td>\n",
              "      <td>1.0</td>\n",
              "      <td>0.0</td>\n",
              "      <td>0.0</td>\n",
              "      <td>1.0</td>\n",
              "      <td>0.0</td>\n",
              "      <td>0.0</td>\n",
              "      <td>1.0</td>\n",
              "    </tr>\n",
              "    <tr>\n",
              "      <th>3</th>\n",
              "      <td>0.674569</td>\n",
              "      <td>0.488372</td>\n",
              "      <td>0.000000</td>\n",
              "      <td>0.469120</td>\n",
              "      <td>1.0</td>\n",
              "      <td>0.0</td>\n",
              "      <td>0.0</td>\n",
              "      <td>1.0</td>\n",
              "      <td>0.0</td>\n",
              "      <td>1.0</td>\n",
              "      <td>0.0</td>\n",
              "    </tr>\n",
              "    <tr>\n",
              "      <th>4</th>\n",
              "      <td>1.000000</td>\n",
              "      <td>0.581395</td>\n",
              "      <td>0.500246</td>\n",
              "      <td>0.395400</td>\n",
              "      <td>0.0</td>\n",
              "      <td>0.0</td>\n",
              "      <td>1.0</td>\n",
              "      <td>1.0</td>\n",
              "      <td>0.0</td>\n",
              "      <td>0.0</td>\n",
              "      <td>1.0</td>\n",
              "    </tr>\n",
              "  </tbody>\n",
              "</table>\n",
              "</div>"
            ],
            "text/plain": [
              "   CreditScore       Age   Balance  ...  Gender_Male  HasCrCard_0  HasCrCard_1\n",
              "0     0.502155  0.558140  0.000000  ...          0.0          0.0          1.0\n",
              "1     0.478448  0.534884  0.334031  ...          0.0          1.0          0.0\n",
              "2     0.250000  0.558140  0.636357  ...          0.0          0.0          1.0\n",
              "3     0.674569  0.488372  0.000000  ...          0.0          1.0          0.0\n",
              "4     1.000000  0.581395  0.500246  ...          0.0          0.0          1.0\n",
              "\n",
              "[5 rows x 11 columns]"
            ]
          },
          "metadata": {
            "tags": []
          },
          "execution_count": 189
        }
      ]
    },
    {
      "cell_type": "markdown",
      "metadata": {
        "id": "OH4l7NvtIuiJ"
      },
      "source": [
        "# Modeling:"
      ]
    },
    {
      "cell_type": "markdown",
      "metadata": {
        "id": "oSPmbZ4sm2pO"
      },
      "source": [
        "## Train-Test Split"
      ]
    },
    {
      "cell_type": "code",
      "metadata": {
        "id": "VZvgZW0iMW1l"
      },
      "source": [
        "x_train, x_test, y_train, y_test = train_test_split(x,y, test_size = 0.20, random_state = 42)"
      ],
      "execution_count": 190,
      "outputs": []
    },
    {
      "cell_type": "code",
      "metadata": {
        "colab": {
          "base_uri": "https://localhost:8080/"
        },
        "id": "MvWf54GgnbJx",
        "outputId": "02c5c65f-de6f-401a-d951-71319ecadec0"
      },
      "source": [
        "x_train.shape, x_test.shape, y_train.shape, y_test.shape"
      ],
      "execution_count": 191,
      "outputs": [
        {
          "output_type": "execute_result",
          "data": {
            "text/plain": [
              "((7612, 11), (1903, 11), (7612,), (1903,))"
            ]
          },
          "metadata": {
            "tags": []
          },
          "execution_count": 191
        }
      ]
    },
    {
      "cell_type": "code",
      "metadata": {
        "colab": {
          "base_uri": "https://localhost:8080/"
        },
        "id": "mSY6jTHBqnwK",
        "outputId": "236ae593-24d5-4de5-e2ae-75b5d28b0fb6"
      },
      "source": [
        "y_train.shape"
      ],
      "execution_count": 192,
      "outputs": [
        {
          "output_type": "execute_result",
          "data": {
            "text/plain": [
              "(7612,)"
            ]
          },
          "metadata": {
            "tags": []
          },
          "execution_count": 192
        }
      ]
    },
    {
      "cell_type": "code",
      "metadata": {
        "colab": {
          "base_uri": "https://localhost:8080/"
        },
        "id": "RI8GHAeSrHRY",
        "outputId": "e2065dc5-b377-481a-8c7d-33085c6af832"
      },
      "source": [
        "\n",
        "x_train.shape[0]"
      ],
      "execution_count": 193,
      "outputs": [
        {
          "output_type": "execute_result",
          "data": {
            "text/plain": [
              "7612"
            ]
          },
          "metadata": {
            "tags": []
          },
          "execution_count": 193
        }
      ]
    },
    {
      "cell_type": "markdown",
      "metadata": {
        "id": "8gHWBoKxJGj4"
      },
      "source": [
        "\n",
        "## Logistic Regression"
      ]
    },
    {
      "cell_type": "code",
      "metadata": {
        "id": "G0v9xKbx-Sja",
        "colab": {
          "base_uri": "https://localhost:8080/"
        },
        "outputId": "54325990-94e2-4cbe-c1fb-9591432f2edf"
      },
      "source": [
        "loj = LogisticRegression(solver = \"liblinear\")\n",
        "loj.fit(x_train,y_train)\n",
        "loj"
      ],
      "execution_count": 194,
      "outputs": [
        {
          "output_type": "execute_result",
          "data": {
            "text/plain": [
              "LogisticRegression(C=1.0, class_weight=None, dual=False, fit_intercept=True,\n",
              "                   intercept_scaling=1, l1_ratio=None, max_iter=100,\n",
              "                   multi_class='auto', n_jobs=None, penalty='l2',\n",
              "                   random_state=None, solver='liblinear', tol=0.0001, verbose=0,\n",
              "                   warm_start=False)"
            ]
          },
          "metadata": {
            "tags": []
          },
          "execution_count": 194
        }
      ]
    },
    {
      "cell_type": "code",
      "metadata": {
        "id": "Ffw3fidnKnwb"
      },
      "source": [
        "# Helper function for confusion matric and classification report \n",
        "def evaluate_model(classifier):\n",
        "    cf_matrix = confusion_matrix(y_test, classifier.predict(x_test))\n",
        "    sns.heatmap(cf_matrix/np.sum(cf_matrix), annot=True, \n",
        "                fmt='.2%', cmap='Blues')\n",
        "\n"
      ],
      "execution_count": 195,
      "outputs": []
    },
    {
      "cell_type": "code",
      "metadata": {
        "colab": {
          "base_uri": "https://localhost:8080/",
          "height": 265
        },
        "id": "ugVlOCzkKT91",
        "outputId": "dfcefd38-ef51-4528-86ae-cb453eec4c28"
      },
      "source": [
        "evaluate_model(loj)\n",
        "plt.show() "
      ],
      "execution_count": 196,
      "outputs": [
        {
          "output_type": "display_data",
          "data": {
            "image/png": "[encoded data removed]",
            "text/plain": [
              "<Figure size 432x288 with 2 Axes>"
            ]
          },
          "metadata": {
            "tags": [],
            "needs_background": "light"
          }
        }
      ]
    },
    {
      "cell_type": "code",
      "metadata": {
        "colab": {
          "base_uri": "https://localhost:8080/"
        },
        "id": "q5GNKecq-oYc",
        "outputId": "699a0b48-1eac-44bc-ad07-41a332176b96"
      },
      "source": [
        "print(\"Test accurarcy {}\".format(loj.score(x_test,y_test)))"
      ],
      "execution_count": 197,
      "outputs": [
        {
          "output_type": "stream",
          "text": [
            "Test accurarcy 0.8292170257488176\n"
          ],
          "name": "stdout"
        }
      ]
    },
    {
      "cell_type": "markdown",
      "metadata": {
        "id": "fEIgFpnhLCgd"
      },
      "source": [
        "## KNN:"
      ]
    },
    {
      "cell_type": "code",
      "metadata": {
        "id": "EcWHfl-j-zhT"
      },
      "source": [
        "knn = KNeighborsClassifier()\n",
        "knn_model = knn.fit(x_train,y_train)\n",
        "knn_params = {\"n_neighbors\": np.arange(1,50)}"
      ],
      "execution_count": 198,
      "outputs": []
    },
    {
      "cell_type": "code",
      "metadata": {
        "colab": {
          "base_uri": "https://localhost:8080/"
        },
        "id": "ImJTdyO7-3uh",
        "outputId": "4a2362ec-08aa-44ea-dc5f-638682be655c"
      },
      "source": [
        "knn = KNeighborsClassifier()\n",
        "knn_cv = GridSearchCV(knn, knn_params, cv=10)\n",
        "knn_cv.fit(x_train, y_train)"
      ],
      "execution_count": 199,
      "outputs": [
        {
          "output_type": "execute_result",
          "data": {
            "text/plain": [
              "GridSearchCV(cv=10, error_score=nan,\n",
              "             estimator=KNeighborsClassifier(algorithm='auto', leaf_size=30,\n",
              "                                            metric='minkowski',\n",
              "                                            metric_params=None, n_jobs=None,\n",
              "                                            n_neighbors=5, p=2,\n",
              "                                            weights='uniform'),\n",
              "             iid='deprecated', n_jobs=None,\n",
              "             param_grid={'n_neighbors': array([ 1,  2,  3,  4,  5,  6,  7,  8,  9, 10, 11, 12, 13, 14, 15, 16, 17,\n",
              "       18, 19, 20, 21, 22, 23, 24, 25, 26, 27, 28, 29, 30, 31, 32, 33, 34,\n",
              "       35, 36, 37, 38, 39, 40, 41, 42, 43, 44, 45, 46, 47, 48, 49])},\n",
              "             pre_dispatch='2*n_jobs', refit=True, return_train_score=False,\n",
              "             scoring=None, verbose=0)"
            ]
          },
          "metadata": {
            "tags": []
          },
          "execution_count": 199
        }
      ]
    },
    {
      "cell_type": "code",
      "metadata": {
        "id": "G76hK4em-_Ji"
      },
      "source": [
        "knn = KNeighborsClassifier(7)\n",
        "knn_model = knn.fit(x_train, y_train)"
      ],
      "execution_count": 200,
      "outputs": []
    },
    {
      "cell_type": "code",
      "metadata": {
        "colab": {
          "base_uri": "https://localhost:8080/"
        },
        "id": "Aj3SwBK_LYQh",
        "outputId": "b89293e1-722c-40b0-f725-7a83e28b4eb3"
      },
      "source": [
        "y_pred = knn_model.predict(x_test)\n",
        "accuracy_score(y_test,y_pred)"
      ],
      "execution_count": 201,
      "outputs": [
        {
          "output_type": "execute_result",
          "data": {
            "text/plain": [
              "0.8124014713610089"
            ]
          },
          "metadata": {
            "tags": []
          },
          "execution_count": 201
        }
      ]
    },
    {
      "cell_type": "code",
      "metadata": {
        "colab": {
          "base_uri": "https://localhost:8080/",
          "height": 265
        },
        "id": "VYA2-HkfL0Wp",
        "outputId": "883c5b53-7e9e-4c8e-da31-e15593223932"
      },
      "source": [
        "evaluate_model(knn_model)\n",
        "plt.show() "
      ],
      "execution_count": 202,
      "outputs": [
        {
          "output_type": "display_data",
          "data": {
            "image/png": "[encoded data removed]",
            "text/plain": [
              "<Figure size 432x288 with 2 Axes>"
            ]
          },
          "metadata": {
            "tags": [],
            "needs_background": "light"
          }
        }
      ]
    },
    {
      "cell_type": "markdown",
      "metadata": {
        "id": "FK75NLa-MCHl"
      },
      "source": [
        "## Random Forest:"
      ]
    },
    {
      "cell_type": "code",
      "metadata": {
        "colab": {
          "base_uri": "https://localhost:8080/"
        },
        "id": "wUOEqHZ6MYd6",
        "outputId": "933cd957-788d-42e9-9269-2eb6e36d6664"
      },
      "source": [
        "rf_model = RandomForestClassifier(random_state = 42, max_depth = 10, n_estimators = 1000)\n",
        "rf_model.fit(x_train, y_train)\n"
      ],
      "execution_count": 203,
      "outputs": [
        {
          "output_type": "execute_result",
          "data": {
            "text/plain": [
              "RandomForestClassifier(bootstrap=True, ccp_alpha=0.0, class_weight=None,\n",
              "                       criterion='gini', max_depth=10, max_features='auto',\n",
              "                       max_leaf_nodes=None, max_samples=None,\n",
              "                       min_impurity_decrease=0.0, min_impurity_split=None,\n",
              "                       min_samples_leaf=1, min_samples_split=2,\n",
              "                       min_weight_fraction_leaf=0.0, n_estimators=1000,\n",
              "                       n_jobs=None, oob_score=False, random_state=42, verbose=0,\n",
              "                       warm_start=False)"
            ]
          },
          "metadata": {
            "tags": []
          },
          "execution_count": 203
        }
      ]
    },
    {
      "cell_type": "code",
      "metadata": {
        "colab": {
          "base_uri": "https://localhost:8080/"
        },
        "id": "SxtMvrWZMijc",
        "outputId": "54712649-4771-4296-c2e1-e054bc6a7477"
      },
      "source": [
        "y_pred = rf_model.predict(x_test)\n",
        "accuracy_score(y_test, y_pred)"
      ],
      "execution_count": 204,
      "outputs": [
        {
          "output_type": "execute_result",
          "data": {
            "text/plain": [
              "0.8339464004203888"
            ]
          },
          "metadata": {
            "tags": []
          },
          "execution_count": 204
        }
      ]
    },
    {
      "cell_type": "code",
      "metadata": {
        "colab": {
          "base_uri": "https://localhost:8080/",
          "height": 265
        },
        "id": "4ZVpnBIPML8m",
        "outputId": "d5f01578-ec21-485f-8ef0-d09dfa4534c4"
      },
      "source": [
        "evaluate_model(rf_model)\n",
        "plt.show() "
      ],
      "execution_count": 205,
      "outputs": [
        {
          "output_type": "display_data",
          "data": {
            "image/png": "[encoded data removed]",
            "text/plain": [
              "<Figure size 432x288 with 2 Axes>"
            ]
          },
          "metadata": {
            "tags": [],
            "needs_background": "light"
          }
        }
      ]
    },
    {
      "cell_type": "markdown",
      "metadata": {
        "id": "e7ZDb6QXM63L"
      },
      "source": [
        "## SVM:"
      ]
    },
    {
      "cell_type": "code",
      "metadata": {
        "colab": {
          "base_uri": "https://localhost:8080/"
        },
        "id": "YdDlK_9LM9kd",
        "outputId": "ed392b42-83ef-430e-e80b-f2f927f25fce"
      },
      "source": [
        "svm_model = SVC(probability=True)\n",
        "svm_model.fit(x_train, y_train)\n",
        "\n",
        "y_pred = svm_model.predict(x_test)\n",
        "accuracy_score(y_test, y_pred)"
      ],
      "execution_count": 206,
      "outputs": [
        {
          "output_type": "execute_result",
          "data": {
            "text/plain": [
              "0.8129269574356279"
            ]
          },
          "metadata": {
            "tags": []
          },
          "execution_count": 206
        }
      ]
    },
    {
      "cell_type": "code",
      "metadata": {
        "id": "JGUfpF-Kcadb",
        "colab": {
          "base_uri": "https://localhost:8080/"
        },
        "outputId": "0b62298d-6f14-46e2-b964-769aaddccd04"
      },
      "source": [
        "models = [\n",
        "    knn_model,\n",
        "    loj,\n",
        "    rf_model,\n",
        "    svm_model ]\n",
        "\n",
        "\n",
        "for model in models:\n",
        "    names = model.__class__.__name__\n",
        "    y_pred = model.predict(x_test)\n",
        "    accuracy = accuracy_score(y_test, y_pred)\n",
        "    print(\"-\"*28)\n",
        "    print(names + \":\" )\n",
        "    print(\"Accuracy: {:.4%}\".format(accuracy))\n",
        "    L.append()"
      ],
      "execution_count": 207,
      "outputs": [
        {
          "output_type": "stream",
          "text": [
            "----------------------------\n",
            "KNeighborsClassifier:\n",
            "Accuracy: 81.2401%\n",
            "----------------------------\n",
            "LogisticRegression:\n",
            "Accuracy: 82.9217%\n",
            "----------------------------\n",
            "RandomForestClassifier:\n",
            "Accuracy: 83.3946%\n",
            "----------------------------\n",
            "SVC:\n",
            "Accuracy: 81.2927%\n"
          ],
          "name": "stdout"
        }
      ]
    },
    {
      "cell_type": "code",
      "metadata": {
        "id": "yb9dNjlDce_k",
        "colab": {
          "base_uri": "https://localhost:8080/",
          "height": 350
        },
        "outputId": "1db65af2-f713-4700-e0d8-5494d064e855"
      },
      "source": [
        "logistic_roc_auc = roc_auc_score(y_test, loj.predict(x_test))\n",
        "fpr, tpr, thresholds = roc_curve(y_test, loj.predict_proba(x_test)[:,1])\n",
        "knn_roc_auc = roc_auc_score(y_test, knn_model.predict(x_test))\n",
        "knn_fpr, knn_tpr, knn_thresholds = roc_curve(y_test, knn_model.predict_proba(x_test)[:,1])\n",
        "rf_roc_auc = roc_auc_score(y_test, rf_model.predict(x_test))\n",
        "rf_fpr, rf_tpr, rf_thresholds = roc_curve(y_test, rf_model.predict_proba(x_test)[:,1])\n",
        "svm_roc_auc = roc_auc_score(y_test, svm_model.predict(x_test))\n",
        "svm_fpr, svm_tpr, svm_thresholds = roc_curve(y_test, svm_model.predict_proba(x_test)[:,1])\n",
        "\n",
        "plt.figure(figsize=(10,5))\n",
        "\n",
        "\n",
        "\n",
        "plt.plot(fpr, tpr, label='Logistic Regression Acc: 82.92' % logistic_roc_auc)\n",
        "plt.plot(knn_fpr, knn_tpr, label='KNN Acc 81.24' % knn_roc_auc)\n",
        "plt.plot(rf_fpr, rf_tpr, label='Random Forest Acc: 83.39' % rf_roc_auc)\n",
        "plt.plot(svm_fpr, svm_tpr, label='SVM Acc: 81.29' % svm_roc_auc)\n",
        "plt.plot([0, 1], [0, 1],'r--')\n",
        "plt.xlim([0.0, 1.0])\n",
        "plt.ylim([0.0, 1.05])\n",
        "plt.xlabel('False Positive Rate')\n",
        "plt.ylabel('True Positive Rate')\n",
        "plt.title('Receiver operating characteristic')\n",
        "plt.legend(loc=\"lower right\")\n",
        "plt.show()\n",
        "\n"
      ],
      "execution_count": 218,
      "outputs": [
        {
          "output_type": "display_data",
          "data": {
            "image/png": "[encoded data removed]",
            "text/plain": [
              "<Figure size 720x360 with 1 Axes>"
            ]
          },
          "metadata": {
            "tags": [],
            "needs_background": "light"
          }
        }
      ]
    },
    {
      "cell_type": "markdown",
      "metadata": {
        "id": "LT0Nfip9QXOi"
      },
      "source": [
        "The best model amonst the ones implemented is Random Forests."
      ]
    },
    {
      "cell_type": "code",
      "metadata": {
        "id": "nNAWIqe2QUsX"
      },
      "source": [
        ""
      ],
      "execution_count": null,
      "outputs": []
    },
    {
      "cell_type": "code",
      "metadata": {
        "id": "qkLwSJvkMWTj"
      },
      "source": [
        ""
      ],
      "execution_count": null,
      "outputs": []
    },
    {
      "cell_type": "code",
      "metadata": {
        "id": "C1prxq_rMWRB"
      },
      "source": [
        ""
      ],
      "execution_count": null,
      "outputs": []
    },
    {
      "cell_type": "code",
      "metadata": {
        "id": "g8MTvPvlMWOj"
      },
      "source": [
        ""
      ],
      "execution_count": null,
      "outputs": []
    },
    {
      "cell_type": "code",
      "metadata": {
        "id": "AD9p5WaMMWML"
      },
      "source": [
        ""
      ],
      "execution_count": null,
      "outputs": []
    },
    {
      "cell_type": "code",
      "metadata": {
        "id": "5pAKNNZLMWJo"
      },
      "source": [
        ""
      ],
      "execution_count": null,
      "outputs": []
    },
    {
      "cell_type": "code",
      "metadata": {
        "id": "jPGBhNlRMWHm"
      },
      "source": [
        ""
      ],
      "execution_count": null,
      "outputs": []
    },
    {
      "cell_type": "code",
      "metadata": {
        "id": "Ha4oN35EMWE_"
      },
      "source": [
        ""
      ],
      "execution_count": null,
      "outputs": []
    },
    {
      "cell_type": "code",
      "metadata": {
        "id": "0P31yhuBMWB9"
      },
      "source": [
        ""
      ],
      "execution_count": null,
      "outputs": []
    },
    {
      "cell_type": "code",
      "metadata": {
        "id": "Op0K46ao_xgw"
      },
      "source": [
        ""
      ],
      "execution_count": null,
      "outputs": []
    }
  ]
}